{
 "cells": [
  {
   "cell_type": "code",
   "execution_count": 1,
   "metadata": {},
   "outputs": [],
   "source": [
    "# Export java11 to use\n",
    "import os\n",
    "os.environ['JAVA_HOME'] = '/home/team1/.jdk/jdk-11.0.19+7'\n",
    "os.environ[\"SPARK_HOME\"] = \"/opt/spark\"\n",
    "\n",
    "# import findspark and initialize it\n",
    "import findspark\n",
    "findspark.init(\"/opt/spark\")\n",
    "\n",
    "# Import the necessary modules\n",
    "from pyspark.sql import SparkSession\n",
    "from pyspark.sql.types import ArrayType, StringType\n",
    "from pyspark.sql.functions import udf, col, lower, regexp_replace, when\n",
    "from pyspark.ml.feature import Tokenizer, HashingTF, IDF, StopWordsRemover, NGram, CountVectorizer, VectorAssembler\n",
    "from pyspark.ml.classification import NaiveBayes,LogisticRegression, LinearSVC, MultilayerPerceptronClassifier\n",
    "from nltk.stem.snowball import SnowballStemmer\n",
    "from pyspark.ml.evaluation import MulticlassClassificationEvaluator\n",
    "from pyspark.ml import Pipeline, PipelineModel\n",
    "\n",
    "# Create a spark session\n",
    "spark = SparkSession.builder \\\n",
    "    .appName(\"SentimentAnalysisTFIDF\") \\\n",
    "    .master(\"local[*]\") \\\n",
    "    .config(\"spark.driver.memory\", \"100g\") \\\n",
    "    .config(\"spark.executor.memory\", \"100g\") \\\n",
    "    .config(\"spark.memory.offHeap.enabled\",\"true\") \\\n",
    "    .config(\"spark.memory.offHeap.size\",\"100g\") \\\n",
    "    .getOrCreate()"
   ]
  },
  {
   "cell_type": "code",
   "execution_count": 2,
   "metadata": {},
   "outputs": [
    {
     "name": "stdout",
     "output_type": "stream",
     "text": [
      "READ DATASET...\n"
     ]
    }
   ],
   "source": [
    "# Load the sentiment data\n",
    "# Assume the data has two columns: body and score\n",
    "# Score is an integer from 1 to 5\n",
    "print('READ DATASET...')\n",
    "data = spark.read.csv('part2_900k.csv', inferSchema=True, header=True, multiLine=True, quote='\"', escape='\"')\n",
    "data = data.select('review/score', (lower(regexp_replace('review/text', \"[^a-zA-Z\\\\s]\", \"\")).alias('review/text')))\n",
    "data = data.dropna()\n",
    "\n",
    "# Convert to 2 label 0, 1\n",
    "data = data.replace(1, 0, subset=[\"review/score\"])\n",
    "data = data.replace(2, 0, subset=[\"review/score\"])\n",
    "data = data.replace(3, 0, subset=[\"review/score\"])\n",
    "data = data.replace(4, 1, subset=[\"review/score\"])\n",
    "data = data.replace(5, 1, subset=[\"review/score\"])"
   ]
  },
  {
   "cell_type": "code",
   "execution_count": 3,
   "metadata": {},
   "outputs": [
    {
     "name": "stdout",
     "output_type": "stream",
     "text": [
      "/workspace/nlplab/Bigdata/venv/bin/python\n"
     ]
    }
   ],
   "source": [
    "!which python"
   ]
  },
  {
   "cell_type": "code",
   "execution_count": 3,
   "metadata": {},
   "outputs": [
    {
     "name": "stdout",
     "output_type": "stream",
     "text": [
      "PREPROCESSING...\n"
     ]
    }
   ],
   "source": [
    "# Define the pipeline that includes tokenize, hashingTF and IDF\n",
    "print('PREPROCESSING...')\n",
    "# Tokenize text\n",
    "# Tokenize text\n",
    "preprocess = PipelineModel.load('pipelines/preprocess/tokenizer_stopwordremover')\n",
    "# preprocess = preprocess.fit(data)\n",
    "data = preprocess.transform(data)\n",
    "\n",
    "# Split the data into train and test sets\n",
    "train, test = data.randomSplit([0.9, 0.1], seed=42)"
   ]
  },
  {
   "cell_type": "code",
   "execution_count": 4,
   "metadata": {},
   "outputs": [],
   "source": [
    "# Split the data into train and test sets\n",
    "train, test = data.randomSplit([0.9, 0.1], seed=42)"
   ]
  },
  {
   "cell_type": "code",
   "execution_count": null,
   "metadata": {},
   "outputs": [],
   "source": [
    "NGRAM = 2\n",
    "VOCABSIZE = [2**13, 2**12, 2**10]\n",
    "MINDOCFRED = [50, 5, 5]\n",
    "\n",
    "i = 2\n",
    "\n",
    "ngrams = NGram(n=i, inputCol=\"words\", outputCol=\"{0}_grams\".format(i))\n",
    " \n",
    "cv = CountVectorizer(vocabSize=VOCABSIZE[i-1],inputCol=\"{0}_grams\".format(i),\n",
    "        outputCol=\"{0}_tf\".format(i))\n",
    "\n",
    "idf = IDF(inputCol=\"{0}_tf\".format(i), outputCol=\"{0}_tfidf\".format(i), minDocFreq=MINDOCFRED[i-1]) \n",
    "\n",
    "pipeline = Pipeline(stages=[ngrams, cv, idf])\n",
    "pipeline = pipeline.fit(train)\n",
    "pipeline.save('./pipelines/preprocess/{0}-gram_idf'.format(i))"
   ]
  }
 ],
 "metadata": {
  "kernelspec": {
   "display_name": "venv",
   "language": "python",
   "name": "python3"
  },
  "language_info": {
   "codemirror_mode": {
    "name": "ipython",
    "version": 3
   },
   "file_extension": ".py",
   "mimetype": "text/x-python",
   "name": "python",
   "nbconvert_exporter": "python",
   "pygments_lexer": "ipython3",
   "version": "3.6.8"
  },
  "orig_nbformat": 4
 },
 "nbformat": 4,
 "nbformat_minor": 2
}
