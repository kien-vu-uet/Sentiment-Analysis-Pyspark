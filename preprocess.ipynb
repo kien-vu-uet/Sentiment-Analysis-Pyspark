{
 "cells": [
  {
   "cell_type": "code",
   "execution_count": 1,
   "metadata": {},
   "outputs": [
    {
     "name": "stderr",
     "output_type": "stream",
     "text": [
      "/workspace/nlplab/Bigdata/venv/lib/python3.6/site-packages/pyspark/context.py:238: FutureWarning: Python 3.6 support is deprecated in Spark 3.2.\n",
      "  FutureWarning\n"
     ]
    }
   ],
   "source": [
    "# Export java11 to use\n",
    "import os\n",
    "os.environ['JAVA_HOME'] = '/home/nlplab/.jdk/jdk-11.0.19+7'\n",
    "\n",
    "# Import the necessary modules\n",
    "from pyspark.sql import SparkSession\n",
    "from pyspark.sql.types import ArrayType, StringType\n",
    "from pyspark.sql.functions import udf, col, lower, regexp_replace, when\n",
    "from pyspark.ml.feature import Tokenizer, StopWordsRemover\n",
    "from pyspark.ml import Pipeline, PipelineModel\n",
    "from nltk.corpus import stopwords\n",
    "\n",
    "# Create a spark session\n",
    "spark = SparkSession.builder \\\n",
    "    .appName(\"SentimentAnalysisTFIDF\") \\\n",
    "    .master(\"local[*]\") \\\n",
    "    .config(\"spark.driver.memory\", \"100g\") \\\n",
    "    .config(\"spark.executor.memory\", \"100g\") \\\n",
    "    .config(\"spark.memory.offHeap.enabled\",\"true\") \\\n",
    "    .config(\"spark.memory.offHeap.size\",\"100g\") \\\n",
    "    .getOrCreate()"
   ]
  },
  {
   "cell_type": "code",
   "execution_count": 2,
   "metadata": {},
   "outputs": [
    {
     "name": "stdout",
     "output_type": "stream",
     "text": [
      "READ DATASET...\n"
     ]
    }
   ],
   "source": [
    "# Load the sentiment data\n",
    "# Assume the data has two columns: body and score\n",
    "# Score is an integer from 1 to 5\n",
    "print('READ DATASET...')\n",
    "data = spark.read.csv('test.csv', inferSchema=True, header=True, multiLine=True, quote='\"', escape='\"')\n",
    "data = data.select('review/score', (lower(regexp_replace('review/text', \"[^a-zA-Z\\\\s]\", \"\")).alias('review/text')))\n",
    "data = data.dropna()\n",
    "\n",
    "# Convert to 2 label 0, 1\n",
    "data = data.replace(1, 0, subset=[\"review/score\"])\n",
    "data = data.replace(2, 0, subset=[\"review/score\"])\n",
    "data = data.replace(3, 0, subset=[\"review/score\"])\n",
    "data = data.replace(4, 1, subset=[\"review/score\"])\n",
    "data = data.replace(5, 1, subset=[\"review/score\"])"
   ]
  },
  {
   "cell_type": "code",
   "execution_count": 3,
   "metadata": {},
   "outputs": [],
   "source": [
    "tokenizer = Tokenizer(inputCol=\"review/text\", outputCol=\"tokens\")\n",
    "remover = StopWordsRemover(stopWords=stopwords.words('english'), inputCol=\"tokens\", outputCol=\"words\")\n",
    "\n",
    "pipeline = Pipeline(stages=[tokenizer, remover])\n",
    "\n",
    "pipeline = pipeline.fit(data)\n",
    "\n",
    "pipeline.save('pipelines/preprocess/tokenizer_stopwordremover')"
   ]
  }
 ],
 "metadata": {
  "kernelspec": {
   "display_name": "venv",
   "language": "python",
   "name": "python3"
  },
  "language_info": {
   "codemirror_mode": {
    "name": "ipython",
    "version": 3
   },
   "file_extension": ".py",
   "mimetype": "text/x-python",
   "name": "python",
   "nbconvert_exporter": "python",
   "pygments_lexer": "ipython3",
   "version": "3.6.8"
  },
  "orig_nbformat": 4
 },
 "nbformat": 4,
 "nbformat_minor": 2
}
